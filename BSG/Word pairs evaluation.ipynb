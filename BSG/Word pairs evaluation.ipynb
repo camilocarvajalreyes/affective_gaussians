{
 "cells": [
  {
   "cell_type": "markdown",
   "metadata": {},
   "source": [
    "# Word pairs evaluation using Bayesian skip-gram\n",
    "Notebook version of [word pairs avaluation using BSG representations](https://github.com/abrazinskas/BSG/blob/master/eval/word_pairs_eval.py)"
   ]
  },
  {
   "cell_type": "code",
   "execution_count": 1,
   "metadata": {},
   "outputs": [],
   "source": [
    "from eval_support import KL, cosine_sim, read_vectors_to_dict\n",
    "import argparse"
   ]
  },
  {
   "cell_type": "markdown",
   "metadata": {},
   "source": [
    "Path containing the path for gaussian representation parameters"
   ]
  },
  {
   "cell_type": "code",
   "execution_count": 2,
   "metadata": {},
   "outputs": [],
   "source": [
    "mu_vectors_path = 'pretrained_vectors/mu.vectors'\n",
    "sigma_vectors_path = 'pretrained_vectors/sigma.vectors'"
   ]
  },
  {
   "cell_type": "code",
   "execution_count": 3,
   "metadata": {},
   "outputs": [],
   "source": [
    "def word_pairs_eval(word1, word2):\n",
    "    #takes two strings\n",
    "    mus_and_sigmas = read_vectors_to_dict(mu_vectors_path, sigma_vectors_path, log_sigmas=False)\n",
    "\n",
    "    mu_w1, sigma_w1 = mus_and_sigmas[word1]\n",
    "    mu_w2, sigma_w2 = mus_and_sigmas[word2]\n",
    "    kl1 = KL(mu_w1, sigma_w1, mu_w2, sigma_w2)\n",
    "    kl2 = KL(mu_w2, sigma_w2, mu_w1, sigma_w1)\n",
    "    \n",
    "    print(\"Pairwise evaluation using pretrained BSG: {} vs {}\".format(word1,word2))\n",
    "    print(\"cos_sim(%s, %s) = %f\" % (word1, word2, cosine_sim(mu_w1, mu_w2)))\n",
    "    print(\"kl(%s, %s) = %f\" % (word1, word2, kl1))\n",
    "    print(\"kl(%s, %s) = %f\" % (word2, word1, kl2))\n",
    "\n",
    "    my_str = \"%s entails %s\"\n",
    "    if kl1 < kl2:\n",
    "        print(my_str % (word1, word2))\n",
    "    else:\n",
    "        print(my_str % (word2, word1))\n",
    "    print('---------------------------------------')"
   ]
  },
  {
   "cell_type": "code",
   "execution_count": 4,
   "metadata": {},
   "outputs": [
    {
     "name": "stdout",
     "output_type": "stream",
     "text": [
      "Pairwise evaluation using pretrained BSG: emotion vs sadness\n",
      "cos_sim(emotion, sadness) = 0.559091\n",
      "kl(emotion, sadness) = 10.801943\n",
      "kl(sadness, emotion) = 10.576414\n",
      "sadness entails emotion\n",
      "---------------------------------------\n",
      "Pairwise evaluation using pretrained BSG: sadness vs agony\n",
      "cos_sim(sadness, agony) = 0.388984\n",
      "kl(sadness, agony) = 14.855082\n",
      "kl(agony, sadness) = 15.274359\n",
      "sadness entails agony\n",
      "---------------------------------------\n"
     ]
    }
   ],
   "source": [
    "word_pairs_eval('emotion','sadness')\n",
    "word_pairs_eval('sadness','agony')"
   ]
  },
  {
   "cell_type": "code",
   "execution_count": null,
   "metadata": {},
   "outputs": [],
   "source": []
  }
 ],
 "metadata": {
  "kernelspec": {
   "display_name": "affective_gaussians",
   "language": "python",
   "name": "affective_gaussians"
  },
  "language_info": {
   "codemirror_mode": {
    "name": "ipython",
    "version": 3
   },
   "file_extension": ".py",
   "mimetype": "text/x-python",
   "name": "python",
   "nbconvert_exporter": "python",
   "pygments_lexer": "ipython3",
   "version": "3.7.9"
  }
 },
 "nbformat": 4,
 "nbformat_minor": 4
}
