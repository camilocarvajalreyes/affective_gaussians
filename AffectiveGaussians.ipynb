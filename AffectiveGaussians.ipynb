{
 "metadata": {
  "language_info": {
   "codemirror_mode": {
    "name": "ipython",
    "version": 3
   },
   "file_extension": ".py",
   "mimetype": "text/x-python",
   "name": "python",
   "nbconvert_exporter": "python",
   "pygments_lexer": "ipython3",
   "version": "3.7.9-final"
  },
  "orig_nbformat": 2,
  "kernelspec": {
   "name": "affective_gaussians",
   "display_name": "affective_gaussians"
  }
 },
 "nbformat": 4,
 "nbformat_minor": 2,
 "cells": [
  {
   "source": [
    "# Affective Gaussians\n",
    "Importing packages and support files"
   ],
   "cell_type": "markdown",
   "metadata": {}
  },
  {
   "cell_type": "code",
   "execution_count": 1,
   "metadata": {},
   "outputs": [],
   "source": [
    "import sys  \n",
    "sys.path.insert(0, '/AG_support')\n",
    "from Text_processing import *\n",
    "import torchtext"
   ]
  },
  {
   "source": [
    "Defining paths and hyperparameters"
   ],
   "cell_type": "markdown",
   "metadata": {}
  },
  {
   "cell_type": "code",
   "execution_count": 2,
   "metadata": {},
   "outputs": [],
   "source": [
    "train_data_path = \"C:\\\\Users\\\\fast\\\\camilo\\\\affective_gaussians\\\\BSG\\\\data\" # change the path!\n",
    "vocab_file_path = \"C:\\\\Users\\\\fast\\\\camilo\\\\affective_gaussians\\\\BSG\\\\vocabulary.txt\" # if the file does not exist - it will be created\n",
    "output_folder_path = \"C:\\\\Users\\\\fast\\\\camilo\\\\affective_gaussians\\\\BSG\\\\output\"  # change the path(optional)\n",
    "\n",
    "# Hyper-parameters\n",
    "half_window_size = 5  # (one sided)\n",
    "input_dim = 100\n",
    "h_dim = 100  # the number of components in the first hidden layers\n",
    "z_dim = 100  # the number of dimensions of the latent vectors\n",
    "alpha = 0.0075  # learning rate\n",
    "subsampling_threshold = None\n",
    "nr_neg_samples = 10\n",
    "margin = 5.0  # margin in the hinge loss\n",
    "epochs = 1\n",
    "max_vocab_size = 10000\n",
    "batch_size = 500"
   ]
  },
  {
   "source": [
    "**Generating Vocabulary from text data**"
   ],
   "cell_type": "markdown",
   "metadata": {}
  },
  {
   "cell_type": "code",
   "execution_count": 3,
   "metadata": {},
   "outputs": [
    {
     "output_type": "stream",
     "name": "stdout",
     "text": [
      "Creating vocabulary...\n",
      "Vocabulary written to C:\\Users\\fast\\camilo\\affective_gaussians\\BSG\\vocabulary.txt\n",
      "Wall time: 11.7 s\n"
     ]
    }
   ],
   "source": [
    "%%time\n",
    "vocab = Vocabulary(max_size=max_vocab_size, min_count=1)\n",
    "tokenizer = torchtext.data.get_tokenizer(\"basic_english\")\n",
    "data_iterator = TextDataIterator(train_data_path,tokenizer) #with default tokenizer from torchtext (basic_english)\n",
    "vocab.create(data_iterator,vocab_file_path)"
   ]
  },
  {
   "cell_type": "code",
   "execution_count": null,
   "metadata": {},
   "outputs": [],
   "source": []
  }
 ]
}